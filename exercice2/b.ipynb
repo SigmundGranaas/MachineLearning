{
 "cells": [
  {
   "cell_type": "code",
   "execution_count": 1,
   "metadata": {
    "collapsed": true
   },
   "outputs": [
    {
     "name": "stdout",
     "output_type": "stream",
     "text": [
      "W = tensor([[-7.4109],\n",
      "        [-7.4109]], requires_grad=True), b = tensor([[11.2890]], requires_grad=True), loss = tensor(0.0174, grad_fn=<BinaryCrossEntropyWithLogitsBackward>)\n"
     ]
    }
   ],
   "source": [
    "\n",
    "\n",
    "import torch\n",
    "import matplotlib.pyplot as plt\n",
    "%matplotlib qt\n",
    "import numpy as np\n",
    "import matplotlib\n",
    "import matplotlib.pyplot as plt\n",
    "from mpl_toolkits.mplot3d import axes3d, art3d\n",
    "\n",
    "\n",
    "x_train = torch.tensor([[0.0, 1.0], [1.0, 0.0],[1.0, 1.0],[0.0, 0.0]]).reshape(-1, 2)\n",
    "y_train = torch.tensor([[1.0], [1.0], [0.0], [1.0]]).reshape(-1, 1)\n",
    "x_train1 = x_train[:,0].reshape(-1, 1);\n",
    "x_train2 = x_train[:,1].reshape(-1, 1);\n",
    "\n",
    "class NANDModel:\n",
    "    def __init__(self):\n",
    "        # Model variables\n",
    "        self.W = torch.tensor([[0.0], [0.0]], requires_grad=True)\n",
    "        self.b = torch.tensor([[0.0]], requires_grad=True)\n",
    "\n",
    "    # Predictor\n",
    "    def f(self, x1, x2):\n",
    "        return torch.sigmoid((x1 @ (self.W[0]) + x2 @ (self.W[1])) + self.b)  # @ corresponds to matrix multiplication\n",
    "\n",
    "    def logits(self, x1, x2):\n",
    "         return ((x1 @ self.W[0]) + (x2 @ self.W[1]) + self.b).reshape(-1, 1)\n",
    "\n",
    "    def loss(self, x1, x2, y):\n",
    "        return torch.nn.functional.binary_cross_entropy_with_logits(self.logits(x1, x2), y)  # Can also use torch.nn.functional.mse_loss(self.f(x), y) to possibly increase numberical stability\n",
    "\n",
    "\n",
    "model = NANDModel()\n",
    "\n",
    "# Optimize: adjust W and b to minimize loss using stochastic gradient descent\n",
    "optimizer = torch.optim.SGD([model.W, model.b], 0.1)\n",
    "for epoch in range(10000):\n",
    "    model.loss(x_train1, x_train2, y_train).backward()  # Compute loss gradients\n",
    "\n",
    "    optimizer.step()  # Perform optimization by adjusting W and b\n",
    "\n",
    "    optimizer.zero_grad()  # Clear gradients for next step\n",
    "\n",
    "# Print model variables and loss\n",
    "print(\"W = %s, b = %s, loss = %s\" % (model.W, model.b, model.loss(x_train1, x_train2, y_train)))\n",
    "\n",
    "\n",
    "fig = plt.figure(\"Logistic regression: the logical NAND operator\")\n",
    "\n",
    "plot1 = fig.add_subplot(111, projection='3d')\n",
    "\n",
    "x1_grid, x2_grid = np.meshgrid(np.linspace(-0.25, 1.25, 10), np.linspace(-0.25, 1.25, 10))\n",
    "y_grid = np.empty([10, 10])\n",
    "for i in range(0, x1_grid.shape[0]):\n",
    "    for j in range(0, x1_grid.shape[1]):\n",
    "        y_grid[i, j] = model.f(torch.tensor(float(x1_grid[i, j])).reshape(-1, 1), torch.tensor(float(x2_grid[i, j])).reshape(-1, 1))\n",
    "\n",
    "plot1_f = plot1.plot_wireframe(x1_grid, x2_grid, y_grid, color=\"green\")\n",
    "\n",
    "plot1.plot(x_train1.squeeze(), x_train2.squeeze(), y_train.squeeze(), 'o',  color=\"blue\")\n",
    "\n",
    "plot1_info = fig.text(0.01, 0.02, \"\")\n",
    "\n",
    "plot1.set_xlabel(\"$x_1$\")\n",
    "plot1.set_ylabel(\"$x_2$\")\n",
    "plot1.set_zlabel(\"$y$\")\n",
    "plot1.set_xticks([0, 1])\n",
    "plot1.set_yticks([0, 1])\n",
    "plot1.set_zticks([0, 1])\n",
    "plot1.set_xlim(-0.25, 1.25)\n",
    "plot1.set_ylim(-0.25, 1.25)\n",
    "plot1.set_zlim(-0.25, 1.25)\n",
    "\n",
    "table = plt.table(cellText=[[0, 0, 1], [0, 1, 1], [1, 0, 1], [1, 1, 0]],\n",
    "                  colWidths=[0.1] * 3,\n",
    "                  colLabels=[\"$x_1$\", \"$x_2$\", \"$f(\\\\mathbf{x})$\"],\n",
    "                  cellLoc=\"center\",\n",
    "                  loc=\"lower right\")\n",
    "\n",
    "plt.show()\n",
    "\n"
   ]
  }
 ],
 "metadata": {
  "kernelspec": {
   "display_name": "Python 3",
   "language": "python",
   "name": "python3"
  },
  "language_info": {
   "codemirror_mode": {
    "name": "ipython",
    "version": 2
   },
   "file_extension": ".py",
   "mimetype": "text/x-python",
   "name": "python",
   "nbconvert_exporter": "python",
   "pygments_lexer": "ipython2",
   "version": "2.7.6"
  }
 },
 "nbformat": 4,
 "nbformat_minor": 0
}