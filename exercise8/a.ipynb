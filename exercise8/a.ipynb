{
 "cells": [
  {
   "cell_type": "markdown",
   "metadata": {
    "collapsed": true,
    "pycharm": {
     "name": "#%% md\n"
    }
   },
   "source": [
    "# Exercise 1\n",
    "## Implement Q learning in the cartpole environment\n",
    "\n",
    "\n",
    "Reinforcement learning is trying to optimise behaviour based on rewards.\n",
    "Using games as environments is easy and fast to repeat, which makes it ideal for learning by trial and error\n",
    "\n",
    "\n",
    "### Markov decision processes\n",
    "Decisionmaker = Agent\n",
    "In this example, the agent is the cart, and its actions are moving either left or right\n",
    "\n",
    "Environment -> Agent -> States -> Actions -> Rewars -> Repeat\n",
    "\n",
    "The agent wants to achieve higher cumulative reward, not just instant rewards.\n",
    "\n",
    "Set of states = S\n",
    "Set of actions = A\n",
    "Set of rewards = R\n",
    "\n",
    "At each time step (t = 0,1,2...) the agent receives a set of the environments state St.\n",
    "Based on this state, the agent selects and action At. This gives a set pair og action and state (St, At).\n",
    "Time is then incremented t + 1, and the environment is updated with new state. S(t + 1).\n",
    "At this time, the agent receives a reward R(t + 1), taken from the action At. The reward R(t + 1) is based on the state-action pair(St, At)\n",
    "\n",
    "We can look at this as a function *f*(St, At) = R(t +1)\n",
    "\n",
    "This is a sequential process, which can be presented like this: S0, A0, R1, S1, A1, R2, S2...\n",
    "\n",
    "![Illustrated diagram](images/Environment-state-action-flow.png)\n",
    "\n",
    "### Expected return\n",
    "The goal for the agent is to maximise the cumulative rewards. The return is the sum of future rewards.\n",
    "Gt = Rt+1 + Rt+2 + Rt+3 + ... + RT\n",
    "\n",
    "T is the final time step.\n",
    "\n",
    "The interactions of the agent with the actions and environment breaks up into episodes. Where a rewards is calculated Rt+1 at the end of every episode.\n",
    "The environment is reset and the agent can start over with new state.\n",
    "\n",
    "We modify the agent to try to maximise the cumulative discounted rewards.\n",
    "\n",
    "The discount rate d(gamma) = a number between 0 and 1\n",
    "\n",
    "The discounted reward will be Gt = Rt+1 + d²(Rt+2) + d³(Rt+3) + d⁴(Rt+4), Gt is the sum of the discounted rewards at each timestep\n",
    "\n",
    "This will lead the agent to prioritise current rewards, since future rewards will be more discounted.\n",
    "\n",
    "### Policies and value functions\n",
    "How likely is an agent to take any given action based on the state?\n",
    "\n",
    "#### Policies\n",
    "A policy is a function which maps a given state which to the probability of selecting each possible action from that state.\n",
    "Generally an agent follows a policy. If an agent follows policy p at a time t, then p(a | s) is the probability that At = a if St = s.\n",
    "This means that, at time t, under policy p, the probability of taking action a in state s is p(a|s)\n",
    "\n",
    "#### Value functions\n",
    "Value functions determine how good it is for an agent to perform a given action in a given state.\n",
    "The value the value function return is the Expected return.\n",
    "\n",
    "We have a state-value function and the action-value function\n",
    "\n",
    "#### state-value function\n",
    "The state-value function for policy p denoted as q<sub>p</sub> tells us how good it is for the agent to take any given action from a given state while following policy p.\n",
    "\n",
    "In other words, the Q function gives us the value of an action under policy p\n",
    "\n",
    "q<sub>p</sub>(s, a )\n",
    "\n",
    "\n",
    "### Optimal policies\n",
    "\n",
    "\n",
    "### Q - learning\n",
    "\n",
    "\n",
    "\n",
    "\n",
    "\n",
    "\n",
    "\n",
    "\n"
   ]
  },
  {
   "cell_type": "code",
   "execution_count": 1,
   "outputs": [],
   "source": [
    "import random\n",
    "\n",
    "import numpy as np\n",
    "import gym\n",
    "import time\n",
    "import math\n",
    "\n",
    "cartpole_environment = gym.make(\"CartPole-v1\")"
   ],
   "metadata": {
    "collapsed": false,
    "pycharm": {
     "name": "#%%\n"
    }
   }
  },
  {
   "cell_type": "code",
   "execution_count": 2,
   "outputs": [
    {
     "name": "stdout",
     "output_type": "stream",
     "text": [
      "(30, 30, 50, 50, 2)\n"
     ]
    }
   ],
   "source": [
    "\n",
    "#Constants\n",
    "LR = 0.1\n",
    "DISCOUNT = 0.95\n",
    "EPISODES = 2000\n",
    "\n",
    "#Variables\n",
    "total = 0\n",
    "total_reward = 0\n",
    "prior_reward = 0\n",
    "\n",
    "# Cart position, cart velocity, pole angle, pole velocity\n",
    "observation = [30, 30, 50, 50]\n",
    "\n",
    "#Steps\n",
    "#Cart position, cart velocity, ple angle, pole velocity\n",
    "np_array_win_size = np.array([0.25, 0.25, 0.01, 0.1])\n",
    "\n",
    "\n",
    "\n",
    "# Exploration rate, just called epsilon\n",
    "exploration_rate = 1\n",
    "exploration_rate_decay = 0.99995\n",
    "exploration_rate_minimum_threshold = 0.05\n",
    "\n",
    "\n",
    "# The Q table is a policy table, which will be used by the agent to determine the next move\n",
    "# Every move will be determined as positive or negative\n",
    "# The Q table starts with randomized values, which will be optimised as the exploration rate decreases\n",
    "q_table = np.random.uniform(low=0, high=1, size=(observation + [cartpole_environment.action_space.n]))\n",
    "print(q_table.shape)\n",
    "\n",
    "\n",
    "def get_discrete_state(state):\n",
    "    discrete_state = state/np_array_win_size + np.array([15, 10, 1, 10])\n",
    "    return tuple(discrete_state.astype(np.int))"
   ],
   "metadata": {
    "collapsed": false,
    "pycharm": {
     "name": "#%%\n"
    }
   }
  },
  {
   "cell_type": "code",
   "execution_count": 3,
   "outputs": [
    {
     "name": "stdout",
     "output_type": "stream",
     "text": [
      "Episode: 0\n"
     ]
    },
    {
     "name": "stderr",
     "output_type": "stream",
     "text": [
      "/tmp/ipykernel_18379/3049178755.py:28: DeprecationWarning: `np.int` is a deprecated alias for the builtin `int`. To silence this warning, use `int` by itself. Doing this will not modify any behavior and is safe. When replacing `np.int`, you may wish to use e.g. `np.int64` or `np.int32` to specify the precision. If you wish to review your current use, check the release note link for additional information.\n",
      "Deprecated in NumPy 1.20; for more details and guidance: https://numpy.org/devdocs/release/1.20.0-notes.html#deprecations\n",
      "  return tuple(discrete_state.astype(np.int))\n"
     ]
    },
    {
     "name": "stdout",
     "output_type": "stream",
     "text": [
      "Time Average: 0.0005248584747314454\n",
      "Mean Reward: 0.012\n",
      "Episode: 1000\n",
      "Time Average: 0.0008652784824371338\n",
      "Mean Reward: 22.16\n",
      "Episode: 2000\n",
      "Time Average: 0.0006993153095245362\n",
      "Mean Reward: 22.205\n"
     ]
    }
   ],
   "source": [
    "for episode in range(EPISODES + 1): # Adding +1 So it will complete the epochs on the final number\n",
    "    time_0 = time.time() # t0 for timing when we started balancing\n",
    "\n",
    "    discrete_state = get_discrete_state(cartpole_environment.reset())\n",
    "\n",
    "    done = False\n",
    "\n",
    "    episode_reward = 0 # Initialising reward for this episode\n",
    "\n",
    "    if episode % 1000 == 0: # Just printing the Episode\n",
    "        print(\"Episode: \" + str(episode))\n",
    "\n",
    "    while not done: # continue balancing the pole as long as it has not fallen\n",
    "\n",
    "        # Exploration-exploitation trade-off\n",
    "        exploration_rate_threshold = random.uniform(0, 1)\n",
    "        if exploration_rate_threshold > exploration_rate:\n",
    "            # Choosing an exploitation action\n",
    "            action = np.argmax(q_table[discrete_state])\n",
    "        else: # Choosing a random action from the environment\n",
    "            action = cartpole_environment.action_space.sample()\n",
    "\n",
    "        # Passing our action the to the environment\n",
    "        # New state is the new state we have to work with\n",
    "        # Reward is the reward for the action we chose\n",
    "        # done signals if the action led to failure, which will close this episode\n",
    "        # info contains diagnostics, which are not used at the moment, could be _\n",
    "        new_state, reward, done, info = cartpole_environment.step(action)\n",
    "\n",
    "        # Updates the reward for the current episode\n",
    "        episode_reward += reward\n",
    "\n",
    "        new_discrete_state = get_discrete_state(new_state)\n",
    "\n",
    "\n",
    "        #Rendering the gui showing the crazy moves of the agent\n",
    "        if episode % 1000 == 0:\n",
    "            # The cartpole will simply freeze when the episode ends, and will wait for the next 1000 iterations\n",
    "            cartpole_environment.render()\n",
    "\n",
    "\n",
    "        if not done:\n",
    "            # What is the highest possible q value?\n",
    "            max_q = np.max(q_table[new_discrete_state])\n",
    "            # Current q value\n",
    "            current_q = q_table[discrete_state + (action,)]\n",
    "\n",
    "            new_q = current_q * (1 - LR) + LR * (reward + DISCOUNT * max_q)\n",
    "\n",
    "            # Updating our current q_table with new state and action\n",
    "            q_table[discrete_state + (action,)] = new_q\n",
    "\n",
    "        # Discrete state is updated\n",
    "        discrete_state = new_discrete_state\n",
    "\n",
    "    # Checking if the exploration rate is greater than the threshold\n",
    "    if exploration_rate > exploration_rate_minimum_threshold:\n",
    "        # Reducing the exploration rate\n",
    "        if episode_reward > prior_reward and episode > 10000:\n",
    "            exploration_rate = math.pow(exploration_rate_decay, episode - 1000)\n",
    "\n",
    "            if episode % 500 == 0:\n",
    "                print(\"Exploration rate: \" + str(exploration_rate))\n",
    "\n",
    "    # Measuring the time spent balancing\n",
    "    time_1 = time.time()\n",
    "    episode_total = time_1 - time_0\n",
    "\n",
    "    #Updating the total\n",
    "    total = total + episode_total\n",
    "\n",
    "    #Updating the total reward\n",
    "    total_reward += episode_reward\n",
    "\n",
    "    # Saving the last reward\n",
    "    prior_reward = episode_reward\n",
    "\n",
    "    #Measuring averages\n",
    "    if episode % 1000 == 0:\n",
    "        mean = total / 1000\n",
    "        print(\"Time Average: \" + str(mean))\n",
    "        total = 0\n",
    "\n",
    "        mean_reward = total_reward / 1000\n",
    "        print(\"Mean Reward: \" + str(mean_reward))\n",
    "        total_reward = 0\n",
    "\n",
    "cartpole_environment.close()\n"
   ],
   "metadata": {
    "collapsed": false,
    "pycharm": {
     "name": "#%%\n"
    }
   }
  }
 ],
 "metadata": {
  "kernelspec": {
   "display_name": "Python 3",
   "language": "python",
   "name": "python3"
  },
  "language_info": {
   "codemirror_mode": {
    "name": "ipython",
    "version": 2
   },
   "file_extension": ".py",
   "mimetype": "text/x-python",
   "name": "python",
   "nbconvert_exporter": "python",
   "pygments_lexer": "ipython2",
   "version": "2.7.6"
  }
 },
 "nbformat": 4,
 "nbformat_minor": 0
}