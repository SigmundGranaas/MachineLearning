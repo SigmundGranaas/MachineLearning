{
 "cells": [
  {
   "cell_type": "code",
   "execution_count": 1,
   "metadata": {},
   "outputs": [
    {
     "name": "stdout",
     "output_type": "stream",
     "text": [
      "W = tensor([[-10.5976]], requires_grad=True), b = tensor([[5.0948]], requires_grad=True), loss = tensor(0.0051, grad_fn=<BinaryCrossEntropyWithLogitsBackward>)\n"
     ]
    },
    {
     "data": {
      "text/plain": "<Figure size 432x288 with 1 Axes>",
      "image/png": "[encoded data removed]"
     },
     "metadata": {
      "needs_background": "light"
     },
     "output_type": "display_data"
    }
   ],
   "source": [
    "\n",
    "import torch\n",
    "import matplotlib.pyplot as plt\n",
    "\n",
    "x_train = torch.tensor([[0.0], [1.0]]).reshape(-1, 1)\n",
    "y_train = torch.tensor([[1.0], [0.0]]).reshape(-1, 1)\n",
    "\n",
    "class NOTModel:\n",
    "    def __init__(self):\n",
    "        # Model variables\n",
    "        self.W = torch.tensor([[0.0]], requires_grad=True)  # requires_grad enables calculation of gradients\n",
    "        self.b = torch.tensor([[0.0]], requires_grad=True)\n",
    "\n",
    "    # Predictor\n",
    "    def f(self, x):\n",
    "        return torch.sigmoid(self.logits(x))  # @ corresponds to matrix multiplication\n",
    "\n",
    "    def logits(self, x):\n",
    "        return x @ self.W + self.b\n",
    "\n",
    "    # Uses Mean Squared Error\n",
    "    def loss(self, x, y):\n",
    "        return torch.nn.functional.binary_cross_entropy_with_logits(self.logits(x), y)  # Can also use torch.nn.functional.mse_loss(self.f(x), y) to possibly increase numberical stability\n",
    "\n",
    "\n",
    "model = NOTModel()\n",
    "\n",
    "# Optimize: adjust W and b to minimize loss using stochastic gradient descent\n",
    "optimizer = torch.optim.SGD([model.W, model.b], 1)\n",
    "for epoch in range(1000):\n",
    "    model.loss(x_train, y_train).backward()  # Compute loss gradients\n",
    "    optimizer.step()  # Perform optimization by adjusting W and b\n",
    "\n",
    "    optimizer.zero_grad()  # Clear gradients for next step\n",
    "\n",
    "# Print model variables and loss\n",
    "print(\"W = %s, b = %s, loss = %s\" % (model.W, model.b, model.loss(x_train, y_train)))\n",
    "\n",
    "# Visualize result\n",
    "plt.plot(x_train, y_train, 'o', label='$(x^{(i)}, y^{(i)})$')\n",
    "plt.xlabel('x')\n",
    "plt.ylabel('y')\n",
    "x = torch.arange(0.0, 1.0, 0.001).reshape(-1, 1)\n",
    "y = model.f(x).detach()\n",
    "plt.plot(x, model.f(x).detach(), label='$\\\\hat y = f(x) = 20\\\\sigma(xW+b$)+31')\n",
    "plt.legend()\n",
    "plt.show()"
   ]
  },
  {
   "cell_type": "code",
   "execution_count": 1,
   "metadata": {},
   "outputs": [],
   "source": []
  }
 ],
 "metadata": {
  "kernelspec": {
   "display_name": "Python 3 (ipykernel)",
   "language": "python",
   "name": "python3"
  },
  "language_info": {
   "codemirror_mode": {
    "name": "ipython",
    "version": 3
   },
   "file_extension": ".py",
   "mimetype": "text/x-python",
   "name": "python",
   "nbconvert_exporter": "python",
   "pygments_lexer": "ipython3",
   "version": "3.9.5"
  }
 },
 "nbformat": 4,
 "nbformat_minor": 1
}