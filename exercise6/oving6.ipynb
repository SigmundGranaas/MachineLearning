{
 "cells": [
  {
   "cell_type": "markdown",
   "metadata": {
    "collapsed": true,
    "pycharm": {
     "name": "#%% md\n"
    }
   },
   "source": [
    "# Weka machine learning toolkit\n",
    "\n",
    "* [Download Weka](https://www.cs.waikato.ac.nz/~ml/weka/)\n",
    "* [Data mining with Weka video series](https://www.youtube.com/user/WekaMOOC)\n",
    "\n",
    "# Exercise 6\n",
    "\n",
    "For this exercise you can use either Python with sklearn or Weka.\n",
    "\n",
    "* Using the UCI mushroom dataset from the last exercise, perform a feature selection using a classifier evaluator. Which features are most discriminitave?\n",
    "* Use principal components analysis to construct a reduced space. Which combination of features explain the most variance in the dataset?\n",
    "* Do you see any overlap between the PCA features and those obtained from feature selection?"
   ]
  },
  {
   "cell_type": "code",
   "execution_count": 1,
   "outputs": [
    {
     "data": {
      "text/plain": "array(['gill-color_e', 'stalk-root_c', 'stalk-color-above-ring_e',\n       'stalk-color-below-ring_e', 'population_c', 'habitat_d',\n       'habitat_g', 'habitat_l', 'habitat_m', 'habitat_p', 'habitat_u',\n       'habitat_w'], dtype=object)"
     },
     "execution_count": 1,
     "metadata": {},
     "output_type": "execute_result"
    }
   ],
   "source": [
    "import sklearn.feature_selection as sk\n",
    "import pandas as pd\n",
    "import numpy as np\n",
    "\n",
    "dataset_from_csv = pd.read_csv(\"agaricus-lepiota.csv\")\n",
    "\n",
    "dummy_dataset = pd.get_dummies(dataset_from_csv)\n",
    "dummy_feature_selection = pd.get_dummies(dataset_from_csv['habitat'])\n",
    "\n",
    "feature_selector = sk.SelectKBest(sk.chi2, k=12)\n",
    "feature_selector.fit_transform(dummy_dataset, dummy_feature_selection)\n",
    "\n",
    "np.array(dummy_dataset.columns)[feature_selector.get_support(indices=True)]"
   ],
   "metadata": {
    "collapsed": false,
    "pycharm": {
     "name": "#%%\n"
    }
   }
  },
  {
   "cell_type": "code",
   "execution_count": 2,
   "outputs": [
    {
     "data": {
      "text/plain": "array(['edibility_e', 'edibility_p', 'bruises?_t', 'odor_f', 'odor_n',\n       'gill-size_n', 'gill-color_b', 'stalk-surface-above-ring_k',\n       'stalk-surface-below-ring_k', 'ring-type_l', 'ring-type_p',\n       'spore-print-color_h'], dtype=object)"
     },
     "execution_count": 2,
     "metadata": {},
     "output_type": "execute_result"
    }
   ],
   "source": [
    "dataset_from_csv = pd.read_csv(\"agaricus-lepiota.csv\")\n",
    "\n",
    "dummy_dataset = pd.get_dummies(dataset_from_csv)\n",
    "dummy_feature_selection = pd.get_dummies(dataset_from_csv['edibility'])\n",
    "\n",
    "feature_selector = sk.SelectKBest(sk.chi2, k=12)\n",
    "feature_selector.fit_transform(dummy_dataset, dummy_feature_selection)\n",
    "\n",
    "np.array(dummy_dataset.columns)[feature_selector.get_support(indices=True)]"
   ],
   "metadata": {
    "collapsed": false,
    "pycharm": {
     "name": "#%%\n"
    }
   }
  },
  {
   "cell_type": "markdown",
   "source": [
    "I am mostly suprised by the ordering of the two features I have selected.\n",
    "It makes sense that edibility is the first ranked feature for determining edibility, but why is the order reversed when selecting habitat??"
   ],
   "metadata": {
    "collapsed": false,
    "pycharm": {
     "name": "#%% md\n"
    }
   }
  },
  {
   "cell_type": "code",
   "execution_count": 3,
   "outputs": [
    {
     "data": {
      "text/plain": "           PC1       PC2       PC3       PC4       PC5\n0    -0.638268 -0.703743  0.685535 -1.635024 -1.295963\n1    -1.573287  0.027375  1.016744 -1.551018 -0.248315\n2    -1.670593 -0.198090  0.793701 -1.741395 -0.033859\n3    -0.744696 -0.410661  0.511156 -1.799396 -1.358061\n4    -1.029175 -0.955341  1.727233  1.367630 -0.280311\n...        ...       ...       ...       ...       ...\n8119 -0.495899 -0.446242  0.367512 -0.605917  2.399196\n8120 -0.420277 -0.406395  0.162846 -0.593804  1.836562\n8121 -0.630114 -0.337139  0.298104 -0.413737  2.214303\n8122  1.869292 -1.803126 -0.102362 -0.373076  0.049375\n8123 -0.589150 -0.328403  0.384332 -0.614434  2.115207\n\n[8124 rows x 5 columns]",
      "text/html": "<div>\n<style scoped>\n    .dataframe tbody tr th:only-of-type {\n        vertical-align: middle;\n    }\n\n    .dataframe tbody tr th {\n        vertical-align: top;\n    }\n\n    .dataframe thead th {\n        text-align: right;\n    }\n</style>\n<table border=\"1\" class=\"dataframe\">\n  <thead>\n    <tr style=\"text-align: right;\">\n      <th></th>\n      <th>PC1</th>\n      <th>PC2</th>\n      <th>PC3</th>\n      <th>PC4</th>\n      <th>PC5</th>\n    </tr>\n  </thead>\n  <tbody>\n    <tr>\n      <th>0</th>\n      <td>-0.638268</td>\n      <td>-0.703743</td>\n      <td>0.685535</td>\n      <td>-1.635024</td>\n      <td>-1.295963</td>\n    </tr>\n    <tr>\n      <th>1</th>\n      <td>-1.573287</td>\n      <td>0.027375</td>\n      <td>1.016744</td>\n      <td>-1.551018</td>\n      <td>-0.248315</td>\n    </tr>\n    <tr>\n      <th>2</th>\n      <td>-1.670593</td>\n      <td>-0.198090</td>\n      <td>0.793701</td>\n      <td>-1.741395</td>\n      <td>-0.033859</td>\n    </tr>\n    <tr>\n      <th>3</th>\n      <td>-0.744696</td>\n      <td>-0.410661</td>\n      <td>0.511156</td>\n      <td>-1.799396</td>\n      <td>-1.358061</td>\n    </tr>\n    <tr>\n      <th>4</th>\n      <td>-1.029175</td>\n      <td>-0.955341</td>\n      <td>1.727233</td>\n      <td>1.367630</td>\n      <td>-0.280311</td>\n    </tr>\n    <tr>\n      <th>...</th>\n      <td>...</td>\n      <td>...</td>\n      <td>...</td>\n      <td>...</td>\n      <td>...</td>\n    </tr>\n    <tr>\n      <th>8119</th>\n      <td>-0.495899</td>\n      <td>-0.446242</td>\n      <td>0.367512</td>\n      <td>-0.605917</td>\n      <td>2.399196</td>\n    </tr>\n    <tr>\n      <th>8120</th>\n      <td>-0.420277</td>\n      <td>-0.406395</td>\n      <td>0.162846</td>\n      <td>-0.593804</td>\n      <td>1.836562</td>\n    </tr>\n    <tr>\n      <th>8121</th>\n      <td>-0.630114</td>\n      <td>-0.337139</td>\n      <td>0.298104</td>\n      <td>-0.413737</td>\n      <td>2.214303</td>\n    </tr>\n    <tr>\n      <th>8122</th>\n      <td>1.869292</td>\n      <td>-1.803126</td>\n      <td>-0.102362</td>\n      <td>-0.373076</td>\n      <td>0.049375</td>\n    </tr>\n    <tr>\n      <th>8123</th>\n      <td>-0.589150</td>\n      <td>-0.328403</td>\n      <td>0.384332</td>\n      <td>-0.614434</td>\n      <td>2.115207</td>\n    </tr>\n  </tbody>\n</table>\n<p>8124 rows × 5 columns</p>\n</div>"
     },
     "execution_count": 3,
     "metadata": {},
     "output_type": "execute_result"
    }
   ],
   "source": [
    "from sklearn import decomposition\n",
    "\n",
    "# Principal component analysis\n",
    "# To differenciate which features are important we map the varibles along an axis and fit a line to the data.\n",
    "# We can then read how important each of the variables are in describing a feature by how the line aligns to the different axis.\n",
    "# We can then use pythagoras theorem to measure the weights of the axis\n",
    "# The relationship between the axis is called a \"Linear combination of variables\"\n",
    "\n",
    "# What exactly is the variance?? I guess it explains which features is important for determining other characteristics of the object we are looking at\n",
    "# A higher variance means that the variable is of grater significance to the object, like being poisonous or not??\n",
    "\n",
    "# The results of this tells us that the poisonous mushrooms are the most unique mushrooms?\n",
    "components = 5\n",
    "component_indexes = ['PC' + str(1 + i) for i in range(components) ]\n",
    "\n",
    "pca = decomposition.PCA(n_components=components)\n",
    "principal_components = pca.fit_transform(dummy_dataset)\n",
    "\n",
    "principal_df = pd.DataFrame(data= principal_components, columns=component_indexes)\n",
    "principal_df"
   ],
   "metadata": {
    "collapsed": false,
    "pycharm": {
     "name": "#%%\n"
    }
   }
  },
  {
   "cell_type": "code",
   "execution_count": 4,
   "outputs": [
    {
     "data": {
      "text/plain": "                  PC1       PC2       PC3       PC4       PC5\nedibility_e -0.286025 -0.048523  0.029625  0.113940  0.228357\nedibility_p  0.286025  0.048523 -0.029625 -0.113940 -0.228357\ncap-shape_b -0.028638 -0.003008  0.048408 -0.090450  0.061944\ncap-shape_c  0.000044 -0.000137  0.000293 -0.000485  0.000523\ncap-shape_f  0.000377  0.042997 -0.062735  0.149180 -0.007145\n...               ...       ...       ...       ...       ...\nhabitat_l    0.060540 -0.077944 -0.014493 -0.023391  0.112058\nhabitat_m   -0.024363  0.000736  0.019173 -0.084382 -0.004744\nhabitat_p    0.095959  0.020203 -0.010626 -0.034115  0.009532\nhabitat_u   -0.011416 -0.003436  0.013219 -0.047906 -0.093428\nhabitat_w   -0.007021 -0.011167  0.007850 -0.025200  0.091175\n\n[119 rows x 5 columns]",
      "text/html": "<div>\n<style scoped>\n    .dataframe tbody tr th:only-of-type {\n        vertical-align: middle;\n    }\n\n    .dataframe tbody tr th {\n        vertical-align: top;\n    }\n\n    .dataframe thead th {\n        text-align: right;\n    }\n</style>\n<table border=\"1\" class=\"dataframe\">\n  <thead>\n    <tr style=\"text-align: right;\">\n      <th></th>\n      <th>PC1</th>\n      <th>PC2</th>\n      <th>PC3</th>\n      <th>PC4</th>\n      <th>PC5</th>\n    </tr>\n  </thead>\n  <tbody>\n    <tr>\n      <th>edibility_e</th>\n      <td>-0.286025</td>\n      <td>-0.048523</td>\n      <td>0.029625</td>\n      <td>0.113940</td>\n      <td>0.228357</td>\n    </tr>\n    <tr>\n      <th>edibility_p</th>\n      <td>0.286025</td>\n      <td>0.048523</td>\n      <td>-0.029625</td>\n      <td>-0.113940</td>\n      <td>-0.228357</td>\n    </tr>\n    <tr>\n      <th>cap-shape_b</th>\n      <td>-0.028638</td>\n      <td>-0.003008</td>\n      <td>0.048408</td>\n      <td>-0.090450</td>\n      <td>0.061944</td>\n    </tr>\n    <tr>\n      <th>cap-shape_c</th>\n      <td>0.000044</td>\n      <td>-0.000137</td>\n      <td>0.000293</td>\n      <td>-0.000485</td>\n      <td>0.000523</td>\n    </tr>\n    <tr>\n      <th>cap-shape_f</th>\n      <td>0.000377</td>\n      <td>0.042997</td>\n      <td>-0.062735</td>\n      <td>0.149180</td>\n      <td>-0.007145</td>\n    </tr>\n    <tr>\n      <th>...</th>\n      <td>...</td>\n      <td>...</td>\n      <td>...</td>\n      <td>...</td>\n      <td>...</td>\n    </tr>\n    <tr>\n      <th>habitat_l</th>\n      <td>0.060540</td>\n      <td>-0.077944</td>\n      <td>-0.014493</td>\n      <td>-0.023391</td>\n      <td>0.112058</td>\n    </tr>\n    <tr>\n      <th>habitat_m</th>\n      <td>-0.024363</td>\n      <td>0.000736</td>\n      <td>0.019173</td>\n      <td>-0.084382</td>\n      <td>-0.004744</td>\n    </tr>\n    <tr>\n      <th>habitat_p</th>\n      <td>0.095959</td>\n      <td>0.020203</td>\n      <td>-0.010626</td>\n      <td>-0.034115</td>\n      <td>0.009532</td>\n    </tr>\n    <tr>\n      <th>habitat_u</th>\n      <td>-0.011416</td>\n      <td>-0.003436</td>\n      <td>0.013219</td>\n      <td>-0.047906</td>\n      <td>-0.093428</td>\n    </tr>\n    <tr>\n      <th>habitat_w</th>\n      <td>-0.007021</td>\n      <td>-0.011167</td>\n      <td>0.007850</td>\n      <td>-0.025200</td>\n      <td>0.091175</td>\n    </tr>\n  </tbody>\n</table>\n<p>119 rows × 5 columns</p>\n</div>"
     },
     "execution_count": 4,
     "metadata": {},
     "output_type": "execute_result"
    }
   ],
   "source": [
    "# Finds the indexes in which haves the highest value of variance\n",
    "#significant_features = [pca.components_[i].argmax() for i in principal_components]\n",
    "# Stores the k best features in a string\n",
    "#feature_names = [dummy_dataset.columns[significant_features[i]] for i in range(principal_components.shape[1])]\n",
    "#print(\"Features in which gives max variance:\", \", \".join(feature_names))\n",
    "principal_ranked_df = pd.DataFrame(data=pca.components_ ,columns=dummy_dataset.columns, index=component_indexes).transpose()\n",
    "principal_ranked_df"
   ],
   "metadata": {
    "collapsed": false,
    "pycharm": {
     "name": "#%%\n"
    }
   }
  },
  {
   "cell_type": "code",
   "execution_count": 5,
   "outputs": [
    {
     "name": "stdout",
     "output_type": "stream",
     "text": [
      "edibility_p\n",
      "stalk-root_b\n",
      "habitat_g\n",
      "stalk-shape_t\n",
      "odor_n\n"
     ]
    },
    {
     "data": {
      "text/plain": "             PC1                       PC2             PC3  \\\n0    edibility_p              stalk-root_b       habitat_d   \n1    edibility_e               ring-type_e       habitat_g   \n2    ring-type_p       spore-print-color_h  gill-spacing_w   \n3     bruises?_f               ring-type_l  gill-spacing_c   \n4     bruises?_t              stalk-root_?    stalk-root_b   \n..           ...                       ...             ...   \n114  ring-type_f              veil-color_y     cap-color_r   \n115  cap-shape_c  stalk-color-above-ring_y    gill-color_r   \n116  cap-color_u             cap-surface_g     cap-shape_c   \n117  cap-color_r               cap-shape_c   cap-surface_g   \n118  veil-type_p               veil-type_p     veil-type_p   \n\n                          PC4                       PC5  \n0               stalk-shape_t                    odor_n  \n1               stalk-shape_e              stalk-root_?  \n2                      odor_n  stalk-color-below-ring_w  \n3               cap-surface_f               edibility_e  \n4              gill-spacing_w               edibility_p  \n..                        ...                       ...  \n114               cap-shape_c  stalk-color-above-ring_b  \n115  stalk-color-above-ring_y               cap-shape_s  \n116              veil-color_y  stalk-color-below-ring_b  \n117              gill-color_k             cap-surface_g  \n118               veil-type_p               veil-type_p  \n\n[119 rows x 5 columns]",
      "text/html": "<div>\n<style scoped>\n    .dataframe tbody tr th:only-of-type {\n        vertical-align: middle;\n    }\n\n    .dataframe tbody tr th {\n        vertical-align: top;\n    }\n\n    .dataframe thead th {\n        text-align: right;\n    }\n</style>\n<table border=\"1\" class=\"dataframe\">\n  <thead>\n    <tr style=\"text-align: right;\">\n      <th></th>\n      <th>PC1</th>\n      <th>PC2</th>\n      <th>PC3</th>\n      <th>PC4</th>\n      <th>PC5</th>\n    </tr>\n  </thead>\n  <tbody>\n    <tr>\n      <th>0</th>\n      <td>edibility_p</td>\n      <td>stalk-root_b</td>\n      <td>habitat_d</td>\n      <td>stalk-shape_t</td>\n      <td>odor_n</td>\n    </tr>\n    <tr>\n      <th>1</th>\n      <td>edibility_e</td>\n      <td>ring-type_e</td>\n      <td>habitat_g</td>\n      <td>stalk-shape_e</td>\n      <td>stalk-root_?</td>\n    </tr>\n    <tr>\n      <th>2</th>\n      <td>ring-type_p</td>\n      <td>spore-print-color_h</td>\n      <td>gill-spacing_w</td>\n      <td>odor_n</td>\n      <td>stalk-color-below-ring_w</td>\n    </tr>\n    <tr>\n      <th>3</th>\n      <td>bruises?_f</td>\n      <td>ring-type_l</td>\n      <td>gill-spacing_c</td>\n      <td>cap-surface_f</td>\n      <td>edibility_e</td>\n    </tr>\n    <tr>\n      <th>4</th>\n      <td>bruises?_t</td>\n      <td>stalk-root_?</td>\n      <td>stalk-root_b</td>\n      <td>gill-spacing_w</td>\n      <td>edibility_p</td>\n    </tr>\n    <tr>\n      <th>...</th>\n      <td>...</td>\n      <td>...</td>\n      <td>...</td>\n      <td>...</td>\n      <td>...</td>\n    </tr>\n    <tr>\n      <th>114</th>\n      <td>ring-type_f</td>\n      <td>veil-color_y</td>\n      <td>cap-color_r</td>\n      <td>cap-shape_c</td>\n      <td>stalk-color-above-ring_b</td>\n    </tr>\n    <tr>\n      <th>115</th>\n      <td>cap-shape_c</td>\n      <td>stalk-color-above-ring_y</td>\n      <td>gill-color_r</td>\n      <td>stalk-color-above-ring_y</td>\n      <td>cap-shape_s</td>\n    </tr>\n    <tr>\n      <th>116</th>\n      <td>cap-color_u</td>\n      <td>cap-surface_g</td>\n      <td>cap-shape_c</td>\n      <td>veil-color_y</td>\n      <td>stalk-color-below-ring_b</td>\n    </tr>\n    <tr>\n      <th>117</th>\n      <td>cap-color_r</td>\n      <td>cap-shape_c</td>\n      <td>cap-surface_g</td>\n      <td>gill-color_k</td>\n      <td>cap-surface_g</td>\n    </tr>\n    <tr>\n      <th>118</th>\n      <td>veil-type_p</td>\n      <td>veil-type_p</td>\n      <td>veil-type_p</td>\n      <td>veil-type_p</td>\n      <td>veil-type_p</td>\n    </tr>\n  </tbody>\n</table>\n<p>119 rows × 5 columns</p>\n</div>"
     },
     "execution_count": 5,
     "metadata": {},
     "output_type": "execute_result"
    }
   ],
   "source": [
    "#Finding the most significant features ranked by every PCA\n",
    "principal_df.reset_index()\n",
    "sorted_principal_ranked_df = pd.DataFrame()\n",
    "for i in range(pca.n_components):\n",
    "    # Most significant feature in each respective PCA\n",
    "    print(dummy_dataset.columns[pca.components_[i].argmax()])\n",
    "    sorted_principal_ranked_df['PC' + str(1+ i)] = principal_ranked_df['PC'+ str(1 + i)].abs().sort_values(ascending=False).index\n",
    "    sorted_principal_ranked_df.reset_index()\n",
    "sorted_principal_ranked_df\n",
    "#Veil type is practically useless\n"
   ],
   "metadata": {
    "collapsed": false,
    "pycharm": {
     "name": "#%%\n"
    }
   }
  },
  {
   "cell_type": "markdown",
   "source": [
    "\n",
    "If we compare the data from PCA and classifier evaluation, we can see that edibility is very common between the selections as well as:\n",
    "bruises, odor, stalk-shape, ring_type\n",
    "\n",
    "\n",
    "Results from feature selection for edibility:\n",
    "array(['edibility_e', 'edibility_p', 'bruises?_t', 'odor_f', 'odor_n',\n",
    "       'gill-size_n', 'gill-color_b', 'stalk-surface-above-ring_k',\n",
    "       'stalk-surface-below-ring_k', 'ring-type_l', 'ring-type_p',\n",
    "       'spore-print-color_h'], dtype=object)\n",
    "\n",
    "Results from feature selection for habitat:\n",
    "array(['gill-color_e', 'stalk-root_c', 'stalk-color-above-ring_e',\n",
    "       'stalk-color-below-ring_e', 'population_c', 'habitat_d',\n",
    "       'habitat_g', 'habitat_l', 'habitat_m', 'habitat_p', 'habitat_u',\n",
    "       'habitat_w'], dtype=object)\n"
   ],
   "metadata": {
    "collapsed": false,
    "pycharm": {
     "name": "#%% md\n"
    }
   }
  }
 ],
 "metadata": {
  "kernelspec": {
   "display_name": "Python 3",
   "language": "python",
   "name": "python3"
  },
  "language_info": {
   "codemirror_mode": {
    "name": "ipython",
    "version": 2
   },
   "file_extension": ".py",
   "mimetype": "text/x-python",
   "name": "python",
   "nbconvert_exporter": "python",
   "pygments_lexer": "ipython2",
   "version": "2.7.6"
  }
 },
 "nbformat": 4,
 "nbformat_minor": 0
}