{
 "cells": [
  {
   "cell_type": "code",
   "execution_count": null,
   "metadata": {
    "collapsed": true
   },
   "outputs": [],
   "source": []
  },
  {
   "cell_type": "code",
   "execution_count": 1,
   "outputs": [],
   "source": [
    "import torch\n",
    "import torch.nn as nn\n",
    "\n",
    "char_encodings = [\n",
    "    [1., 0., 0., 0., 0., 0., 0., 0.],  # ' '\n",
    "    [0., 1., 0., 0., 0., 0., 0., 0.],  # 'h'\n",
    "    [0., 0., 1., 0., 0., 0., 0., 0.],  # 'e'\n",
    "    [0., 0., 0., 1., 0., 0., 0., 0.],  # 'l'\n",
    "    [0., 0., 0., 0., 1., 0., 0., 0.],  # 'o'\n",
    "    [0., 0., 0., 0., 0., 1., 0., 0.],  # 'w'\n",
    "    [0., 0., 0., 0., 0., 0., 1., 0.],  # 'r'\n",
    "    [0., 0., 0., 0., 0., 0., 0., 01.], # 'd'\n",
    "]\n",
    "encoding_size = len(char_encodings)\n",
    "\n",
    "index_to_char = [' ', 'h', 'e', 'l', 'o', 'w', 'r', 'd']\n",
    "\n",
    "x_train = torch.tensor([[char_encodings[0]], [char_encodings[1]], [char_encodings[2]], [char_encodings[3]], [char_encodings[3]],\n",
    "                        [char_encodings[4]],[char_encodings[0]],[char_encodings[5]],[char_encodings[4]], [char_encodings[6]], [char_encodings[3]], [char_encodings[7]], [char_encodings[0]]])  # ' hello world '\n",
    "y_train = torch.tensor([char_encodings[0], char_encodings[1], char_encodings[2], char_encodings[3], char_encodings[3],\n",
    "                        char_encodings[4],char_encodings[0],char_encodings[5],char_encodings[4], char_encodings[6], char_encodings[3], char_encodings[7], char_encodings[0]])  # ' hello world '\n",
    "\n"
   ],
   "metadata": {
    "collapsed": false,
    "pycharm": {
     "name": "#%%\n"
    }
   }
  },
  {
   "cell_type": "code",
   "execution_count": 2,
   "outputs": [],
   "source": [
    "class LongShortTermMemoryModel(nn.Module):\n",
    "    def __init__(self, encoding_size):\n",
    "        super(LongShortTermMemoryModel, self).__init__()\n",
    "\n",
    "        self.lstm = nn.LSTM(encoding_size, 128)  # 128 is the state size\n",
    "        self.dense = nn.Linear(128, encoding_size)  # 128 is the state size\n",
    "\n",
    "    def reset(self):  # Reset states prior to new input sequence\n",
    "        zero_state = torch.zeros(1, 1, 128)  # Shape: (number of layers, batch size, state size)\n",
    "        self.hidden_state = zero_state\n",
    "        self.cell_state = zero_state\n",
    "\n",
    "    def logits(self, x):  # x shape: (sequence length, batch size, encoding size)\n",
    "        out, (self.hidden_state, self.cell_state) = self.lstm(x, (self.hidden_state, self.cell_state))\n",
    "        return self.dense(out.reshape(-1, 128))\n",
    "\n",
    "    def f(self, x):  # x shape: (sequence length, batch size, encoding size)\n",
    "        return torch.softmax(self.logits(x), dim=1)\n",
    "\n",
    "    def loss(self, x, y):  # x shape: (sequence length, batch size, encoding size), y shape: (sequence length, encoding size)\n",
    "        return nn.functional.cross_entropy(self.logits(x), y.argmax(1))\n",
    "\n",
    "\n"
   ],
   "metadata": {
    "collapsed": false,
    "pycharm": {
     "name": "#%%\n"
    }
   }
  },
  {
   "cell_type": "code",
   "execution_count": 3,
   "outputs": [
    {
     "name": "stdout",
     "output_type": "stream",
     "text": [
      " hllllloo                                            \n",
      " helllo wwlll    ll    lll    ll    lll    ll    lll \n",
      " heello  wrrld   rlld  wrlld   rlld  wrlld   rll   or\n",
      " hhello  world   rlll  orlld  orll  world  wrlll  wrl\n",
      " hhello  world  orlld worll  wolll  wrlld  orlld worl\n",
      " hhello woolld  hello world  whlll  world  wrlll  orl\n",
      " hhello worlld  hello world  whlll  world  hhlll  wor\n",
      " hhello worlld  hello world   hello world  hhlllo wor\n",
      " hhello world   hello world  hhello world  hhlllo wor\n",
      " hhello world   hello world  hhello world  hhello wor\n",
      " hhello world  hhello world  hhello world  hhello wor\n",
      " hhello world  hhello world  hhello world  hhello wor\n",
      " hhello world  hhello world  hhello world  hhello wor\n",
      " hhello world  hhello world  hhello world  hhello wor\n",
      " hhello world  hhello world  hhello world  hhello wor\n",
      " hhello world  hhello world  hhello world  hhello wor\n",
      " hhello world  hhello world  hhello world  heello wor\n",
      " hhello world  hhello world  hhello world  heello wor\n",
      " hhello world  hhello world  hhello world  heello wor\n",
      " hhello world  hhello world  heello world  heello wor\n",
      " hhello world  hhello world  heello world  heello wor\n",
      " hhello world  hhello world  heello world  heello wor\n",
      " hhello world  hhello world  heello world  heello wor\n",
      " hhello world  hhello world  heello world  heello wor\n",
      " hhello world  hhello world  heello world  heello wor\n",
      " hhello world  hhello world  heello world  heello wor\n",
      " hhello world  hhello world  heello world  heello wor\n",
      " hhello world  hhello world  heello world  heello wor\n",
      " hhello world  heello world  heello world  heello wor\n",
      " hhello world  heello world  heello world  heello wor\n",
      " hhello world  heello world  heello world  heello wor\n",
      " hhello world  heello world  heello world  helllo wor\n",
      " hhello world  heello world  heello world  helllo wor\n",
      " hhello world  heello world  heello world  helllo wor\n",
      " hhello world  heello world  heello world  helllo wor\n",
      " hhello world  heello world  helllo world  helllo wor\n",
      " hhello world  heello world  helllo world  helllo wor\n",
      " hhello world  heello world  helllo world  helllo wor\n",
      " hhello world  heello world  helllo world  helllo wor\n",
      " hhello world  heello world  helllo world  helllo wor\n",
      " hhello world  heello world  helllo world  helllo wrr\n",
      " hhello world  heello world  helllo world  helllo ool\n",
      " hhello world  heello world  helllo world  hellloworr\n",
      " hhello world  heello world  helllo world  hellloworl\n",
      " hhello world  heello world  helllo world  helll  wor\n",
      " hhello world  helllo world  helllo world  hello worl\n",
      " hhello world  helllo world  helllo world  hello worl\n",
      " hhello world  helllo world  helllo world  hello worl\n",
      " hhello world  helllo world  helllo world  hello worl\n",
      " hhello world  helllo world  helllo world  hello worl\n"
     ]
    }
   ],
   "source": [
    "model = LongShortTermMemoryModel(encoding_size)\n",
    "\n",
    "optimizer = torch.optim.RMSprop(model.parameters(), 0.001)\n",
    "for epoch in range(500):\n",
    "    model.reset()\n",
    "    model.loss(x_train, y_train).backward()\n",
    "    optimizer.step()\n",
    "    optimizer.zero_grad()\n",
    "\n",
    "    if epoch % 10 == 9:\n",
    "        # Generate characters from the initial characters ' h'\n",
    "        model.reset()\n",
    "        text = ' h'\n",
    "        model.f(torch.tensor([[char_encodings[0]]]))\n",
    "        y = model.f(torch.tensor([[char_encodings[1]]]))\n",
    "        text += index_to_char[y.argmax(1)]\n",
    "        for c in range(50):\n",
    "            y = model.f(torch.tensor([[char_encodings[y.argmax(1)]]]))\n",
    "            text += index_to_char[y.argmax(1)]\n",
    "        print(text)\n"
   ],
   "metadata": {
    "collapsed": false,
    "pycharm": {
     "name": "#%%\n"
    }
   }
  }
 ],
 "metadata": {
  "kernelspec": {
   "display_name": "Python 3",
   "language": "python",
   "name": "python3"
  },
  "language_info": {
   "codemirror_mode": {
    "name": "ipython",
    "version": 2
   },
   "file_extension": ".py",
   "mimetype": "text/x-python",
   "name": "python",
   "nbconvert_exporter": "python",
   "pygments_lexer": "ipython2",
   "version": "2.7.6"
  }
 },
 "nbformat": 4,
 "nbformat_minor": 0
}