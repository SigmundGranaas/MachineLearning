{
 "cells": [
  {
   "cell_type": "code",
   "execution_count": 8,
   "metadata": {
    "collapsed": true
   },
   "outputs": [],
   "source": [
    "import pandas as pd\n",
    "%matplotlib qt\n",
    "import matplotlib.pyplot as plt\n",
    "# Importing and converting the data\n",
    "training_data = pd.read_csv('./data2.csv')\n",
    "training_data_xy = training_data[['length', 'weight']].to_numpy()\n",
    "training_data_x = training_data['length'].to_numpy()\n",
    "training_data_y = training_data['weight'].to_numpy()\n",
    "training_data_z = training_data['day'].to_numpy()"
   ]
  },
  {
   "cell_type": "code",
   "execution_count": 9,
   "metadata": {
    "pycharm": {
     "name": "#%%\n"
    }
   },
   "outputs": [],
   "source": [
    "import torch\n",
    "torch.set_default_dtype(torch.float64)\n",
    "# Training the model\n",
    "xy_train = torch.reshape(torch.tensor(training_data_xy), (-1, 2))\n",
    "z_train = torch.reshape(torch.tensor(training_data_z), (-1, 1))\n",
    "\n",
    "w1 = torch.rand((2, 1), requires_grad=True)\n",
    "b1 = torch.rand(1, requires_grad=True)\n",
    "\n",
    "lr = 0.0001\n",
    "epochs = 10000\n",
    "stepping = 1000"
   ]
  },
  {
   "cell_type": "code",
   "execution_count": 10,
   "metadata": {
    "pycharm": {
     "name": "#%%\n"
    }
   },
   "outputs": [],
   "source": [
    "plt.figure(figsize=(8, 8))\n",
    "ax = plt.axes(projection='3d')\n",
    "ax.scatter3D(training_data['length'].to_numpy(), training_data_y, training_data_z, c='red', s=10, label='Original data')\n",
    "plt.show()"
   ]
  },
  {
   "cell_type": "code",
   "execution_count": 11,
   "metadata": {
    "pycharm": {
     "name": "#%%\n"
    }
   },
   "outputs": [
    {
     "name": "stdout",
     "output_type": "stream",
     "text": [
      "iteration:  1000 loss:  95899.04371960237\n",
      "iteration:  2000 loss:  90498.01188770011\n",
      "iteration:  3000 loss:  89523.28281638771\n",
      "iteration:  4000 loss:  88977.89218731142\n",
      "iteration:  5000 loss:  88477.23097681507\n",
      "iteration:  6000 loss:  87984.26669774177\n",
      "iteration:  7000 loss:  87495.41044147045\n",
      "iteration:  8000 loss:  87010.29139344636\n",
      "iteration:  9000 loss:  86528.84857314025\n",
      "trained w1:  tensor([[-2.4311],\n",
      "        [96.4402]], requires_grad=True)\n",
      "trained b1:  tensor([-73.7336], requires_grad=True)\n"
     ]
    }
   ],
   "source": [
    "# Training the model with with manual optimizer\n",
    "\n",
    "for i in range(1, epochs):\n",
    "    z_pred = ((xy_train @ w1) + b1)\n",
    "\n",
    "    loss = (((z_pred - z_train).pow(2).sum())/training_data_z.size)\n",
    "\n",
    "\n",
    "    if i % stepping == 0:\n",
    "        print (\"iteration: \", i, \"loss: \", loss.item())\n",
    "\n",
    "    loss.backward()\n",
    "\n",
    "    with torch.no_grad():\n",
    "        w1 -= lr * w1.grad\n",
    "        b1 -= lr * b1.grad\n",
    "        w1.grad.zero_()\n",
    "        b1.grad.zero_()\n",
    "\n",
    "print(\"trained w1: \",w1)\n",
    "print(\"trained b1: \",b1)"
   ]
  },
  {
   "cell_type": "code",
   "execution_count": 12,
   "metadata": {
    "pycharm": {
     "name": "#%%\n"
    }
   },
   "outputs": [
    {
     "ename": "SyntaxError",
     "evalue": "invalid syntax (800252020.py, line 33)",
     "output_type": "error",
     "traceback": [
      "\u001B[0;36m  File \u001B[0;32m\"/tmp/ipykernel_28028/800252020.py\"\u001B[0;36m, line \u001B[0;32m33\u001B[0m\n\u001B[0;31m    z_grid = torch.empty(x_grid.shape)\u001B[0m\n\u001B[0m    ^\u001B[0m\n\u001B[0;31mSyntaxError\u001B[0m\u001B[0;31m:\u001B[0m invalid syntax\n"
     ]
    }
   ],
   "source": [
    "import numpy as np\n",
    "from scipy import interpolate\n",
    "\n",
    "prediction = ((xy_train @ w1) + b1).detach().numpy().flatten()\n",
    "prediction.sort()\n",
    "\n",
    "\n",
    "\n",
    "\n",
    "sortedx = training_data_x.copy()\n",
    "sortedy = training_data_y.copy()\n",
    "\n",
    "sortedx.sort()\n",
    "sortedy.sort()\n",
    "\n",
    "\n",
    "plt.figure(figsize=(8, 8))\n",
    "ax = plt.axes(projection='3d')\n",
    "ax.plot3D(sortedx, sortedy, prediction, label='prediction', color='blue')\n",
    "ax.scatter3D(training_data_x, training_data_y, training_data_z, c='red', s=1, label='Original data')\n",
    "plt.show()\n"
   ]
  }
 ],
 "metadata": {
  "kernelspec": {
   "display_name": "Python 3 (ipykernel)",
   "language": "python",
   "name": "python3"
  },
  "language_info": {
   "codemirror_mode": {
    "name": "ipython",
    "version": 3
   },
   "file_extension": ".py",
   "mimetype": "text/x-python",
   "name": "python",
   "nbconvert_exporter": "python",
   "pygments_lexer": "ipython3",
   "version": "3.9.5"
  }
 },
 "nbformat": 4,
 "nbformat_minor": 1
}